{
 "cells": [
  {
   "cell_type": "code",
   "execution_count": null,
   "metadata": {},
   "outputs": [],
   "source": [
    "import statUtil"
   ]
  },
  {
   "cell_type": "code",
   "execution_count": null,
   "metadata": {},
   "outputs": [],
   "source": [
    "minx = -280000\n",
    "maxx = -160000\n",
    "miny = -1780000\n",
    "maxy = -1670000\n",
    "res = 1000\n",
    "sim_num = 3\n",
    "k = 100\n",
    "rad = 50000\n",
    "\n",
    "statUtil.cosim_mm1(\n",
    "    minx=minx, maxx=maxx, miny=miny, maxy=maxy, res=res, sim_num=sim_num, k=k, rad=rad\n",
    ")"
   ]
  }
 ],
 "metadata": {
  "kernelspec": {
   "display_name": "venv",
   "language": "python",
   "name": "python3"
  },
  "language_info": {
   "codemirror_mode": {
    "name": "ipython",
    "version": 3
   },
   "file_extension": ".py",
   "mimetype": "text/x-python",
   "name": "python",
   "nbconvert_exporter": "python",
   "pygments_lexer": "ipython3",
   "version": "3.10.12"
  }
 },
 "nbformat": 4,
 "nbformat_minor": 2
}
