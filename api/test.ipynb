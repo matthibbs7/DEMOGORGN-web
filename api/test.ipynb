{
 "cells": [
  {
   "cell_type": "code",
   "execution_count": null,
   "metadata": {},
   "outputs": [],
   "source": [
    "import statUtil"
   ]
  },
  {
   "cell_type": "markdown",
   "metadata": {},
   "source": [
    "```python \n",
    "minx = -280000\n",
    "maxx = -160000\n",
    "miny = -1780000\n",
    "maxy = -1670000\n",
    "res = 1000\n",
    "sim_num = 3\n",
    "k = 100\n",
    "rad = 50000\n",
    "\n",
    "statUtil.cosim_mm1(\n",
    "    minx=minx, maxx=maxx, miny=miny, maxy=maxy, res=res, sim_num=sim_num, k=k, rad=rad\n",
    ")\n",
    "```\n"
   ]
  },
  {
   "cell_type": "code",
   "execution_count": null,
   "metadata": {},
   "outputs": [],
   "source": [
    "import pandas as pd \n",
    "FILE_NAME = \"./data/total_demo_gl_not_gridded.csv\"\n",
    "#FILE_NAME = \"./data/PIG_data.csv\"\n",
    "df_bed = pd.read_csv(FILE_NAME)\n",
    "df_bed"
   ]
  },
  {
   "cell_type": "code",
   "execution_count": null,
   "metadata": {},
   "outputs": [],
   "source": [
    "data_x_min = df_bed['X'].min()\n",
    "data_x_max = df_bed['X'].max()\n",
    "\n",
    "data_y_min = df_bed['Y'].min()\n",
    "data_y_max = df_bed['Y'].max()\n",
    "\n",
    "print(f\"xmin: {data_x_min} xmax: {data_x_max}\")\n",
    "print(f\"ymin: {data_y_min} ymax: {data_y_max}\")\n",
    "print(f\"\")\n",
    "xLength = data_x_max - data_x_min\n",
    "yLength = data_y_max - data_y_min\n",
    "\n",
    "print(f\"xLength: {xLength} yLength: {yLength}\")\n",
    "#xLength: 99998.96848110319 yLength: 139999.29861945013\n",
    "\n",
    "test_x_min = data_x_min + (2 * 99998)\n",
    "test_x_max = data_x_min + (3 * 99998)\n",
    "\n",
    "test_y_min = data_y_min + (2 * 139999)\n",
    "test_y_max = data_y_min + (3 * 139999)\n",
    "print(f\"X: {test_x_min} -> {test_x_max}\")\n",
    "print(f\"Y: {test_y_min} -> {test_y_max}\")"
   ]
  },
  {
   "cell_type": "code",
   "execution_count": null,
   "metadata": {},
   "outputs": [],
   "source": [
    "import demogorgn\n",
    "\n",
    "demogorgn.simulate(\n",
    "    xmin = None,\n",
    "    xmax = None,\n",
    "    ymin = None,\n",
    "    ymax = None,\n",
    "    res = 500,\n",
    "    num_realizations = 2 \n",
    ")"
   ]
  },
  {
   "cell_type": "code",
   "execution_count": null,
   "metadata": {},
   "outputs": [],
   "source": []
  }
 ],
 "metadata": {
  "kernelspec": {
   "display_name": "venv",
   "language": "python",
   "name": "python3"
  },
  "language_info": {
   "codemirror_mode": {
    "name": "ipython",
    "version": 3
   },
   "file_extension": ".py",
   "mimetype": "text/x-python",
   "name": "python",
   "nbconvert_exporter": "python",
   "pygments_lexer": "ipython3",
   "version": "3.10.12"
  }
 },
 "nbformat": 4,
 "nbformat_minor": 2
}
