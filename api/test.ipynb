{
 "cells": [
  {
   "cell_type": "code",
   "execution_count": null,
   "metadata": {},
   "outputs": [],
   "source": [
    "import statUtil"
   ]
  },
  {
   "cell_type": "markdown",
   "metadata": {},
   "source": [
    "```python \n",
    "minx = -280000\n",
    "maxx = -160000\n",
    "miny = -1780000\n",
    "maxy = -1670000\n",
    "res = 1000\n",
    "sim_num = 3\n",
    "k = 100\n",
    "rad = 50000\n",
    "\n",
    "statUtil.cosim_mm1(\n",
    "    minx=minx, maxx=maxx, miny=miny, maxy=maxy, res=res, sim_num=sim_num, k=k, rad=rad\n",
    ")\n",
    "```\n"
   ]
  },
  {
   "cell_type": "code",
   "execution_count": null,
   "metadata": {},
   "outputs": [],
   "source": [
    "import pandas as pd \n",
    "FILE_NAME = \"./data/total_demo_gl_not_gridded.csv\"\n",
    "#FILE_NAME = \"./data/PIG_data.csv\"\n",
    "df_bed = pd.read_csv(FILE_NAME)\n",
    "df_bed"
   ]
  },
  {
   "cell_type": "code",
   "execution_count": null,
   "metadata": {},
   "outputs": [],
   "source": [
    "data_x_min = df_bed['X'].min()\n",
    "data_x_max = df_bed['X'].max()\n",
    "\n",
    "data_y_min = df_bed['Y'].min()\n",
    "data_y_max = df_bed['Y'].max()\n",
    "\n",
    "print(f\"xmin: {data_x_min} xmax: {data_x_max}\")\n",
    "print(f\"ymin: {data_y_min} ymax: {data_y_max}\")\n",
    "print(f\"\")\n",
    "xLength = data_x_max - data_x_min\n",
    "yLength = data_y_max - data_y_min\n",
    "\n",
    "print(f\"xLength: {xLength} yLength: {yLength}\")\n",
    "#xLength: 99998.96848110319 yLength: 139999.29861945013\n",
    "\n",
    "test_x_min = data_x_min + (2 * 99998)\n",
    "test_x_max = data_x_min + (3 * 99998)\n",
    "\n",
    "test_y_min = data_y_min + (2 * 139999)\n",
    "test_y_max = data_y_min + (3 * 139999)\n",
    "print(f\"X: {test_x_min} -> {test_x_max}\")\n",
    "print(f\"Y: {test_y_min} -> {test_y_max}\")"
   ]
  },
  {
   "cell_type": "code",
   "execution_count": 1,
   "metadata": {},
   "outputs": [
    {
     "name": "stdout",
     "output_type": "stream",
     "text": [
      "Dataframe has 649999 points.\n",
      "Gridded data has 11597445 points, 98.6% (11437435) are missing and will be simulated.\n",
      "\n",
      "Getting parallel variograms...\n"
     ]
    },
    {
     "name": "stderr",
     "output_type": "stream",
     "text": [
      "/Users/kerekovskik/repos/DEMOGORGN-web/venv_pyvista/lib/python3.10/site-packages/skgstat/Variogram.py:533: UserWarning: All input values are the same.\n",
      "  warnings.warn('All input values are the same.')\n",
      "/Users/kerekovskik/repos/DEMOGORGN-web/venv_pyvista/lib/python3.10/site-packages/skgstat/Variogram.py:1991: RuntimeWarning: All-NaN slice encountered\n",
      "  bounds = [np.nanmax(x), np.nanmax(y)]\n"
     ]
    },
    {
     "ename": "ValueError",
     "evalue": "unable to infer matrix dimensions",
     "output_type": "error",
     "traceback": [
      "\u001b[0;31m---------------------------------------------------------------------------\u001b[0m",
      "\u001b[0;31mRemoteTraceback\u001b[0m                           Traceback (most recent call last)",
      "\u001b[0;31mRemoteTraceback\u001b[0m: \n\"\"\"\nTraceback (most recent call last):\n  File \"/Users/kerekovskik/repos/DEMOGORGN-web/venv_pyvista/lib/python3.10/site-packages/scipy/sparse/_compressed.py\", line 95, in __init__\n    minor_dim = self.indices.max() + 1\n  File \"/Users/kerekovskik/repos/DEMOGORGN-web/venv_pyvista/lib/python3.10/site-packages/numpy/core/_methods.py\", line 41, in _amax\n    return umr_maximum(a, axis, None, out, keepdims, initial, where)\nValueError: zero-size array to reduction operation maximum which has no identity\n\nThe above exception was the direct cause of the following exception:\n\nTraceback (most recent call last):\n  File \"/opt/homebrew/Cellar/python@3.10/3.10.12_1/Frameworks/Python.framework/Versions/3.10/lib/python3.10/multiprocessing/pool.py\", line 125, in worker\n    result = (True, func(*args, **kwds))\n  File \"/opt/homebrew/Cellar/python@3.10/3.10.12_1/Frameworks/Python.framework/Versions/3.10/lib/python3.10/multiprocessing/pool.py\", line 51, in starmapstar\n    return list(itertools.starmap(args[0], args[1]))\n  File \"/Users/kerekovskik/repos/DEMOGORGN-web/api/sgs_preprocess.py\", line 336, in Variogram\n    vario = skg.Variogram(pos, val, bin_func = \"even\", n_lags = n_lags, maxlag = max_lag, normalize=False)\n  File \"/Users/kerekovskik/repos/DEMOGORGN-web/venv_pyvista/lib/python3.10/site-packages/skgstat/Variogram.py\", line 334, in __init__\n    self.preprocessing(force=True)\n  File \"/Users/kerekovskik/repos/DEMOGORGN-web/venv_pyvista/lib/python3.10/site-packages/skgstat/Variogram.py\", line 1454, in preprocessing\n    self._calc_diff(force=force)\n  File \"/Users/kerekovskik/repos/DEMOGORGN-web/venv_pyvista/lib/python3.10/site-packages/skgstat/Variogram.py\", line 1799, in _calc_diff\n    diffs = self._format_values_stack(self.values)\n  File \"/Users/kerekovskik/repos/DEMOGORGN-web/venv_pyvista/lib/python3.10/site-packages/skgstat/Variogram.py\", line 1756, in _format_values_stack\n    Vcol = sparse.csr_matrix(\n  File \"/Users/kerekovskik/repos/DEMOGORGN-web/venv_pyvista/lib/python3.10/site-packages/scipy/sparse/_compressed.py\", line 97, in __init__\n    raise ValueError('unable to infer matrix dimensions') from e\nValueError: unable to infer matrix dimensions\n\"\"\"",
      "\nThe above exception was the direct cause of the following exception:\n",
      "\u001b[0;31mValueError\u001b[0m                                Traceback (most recent call last)",
      "\u001b[1;32m/Users/kerekovskik/repos/DEMOGORGN-web/api/test.ipynb Cell 5\u001b[0m line \u001b[0;36m3\n\u001b[1;32m      <a href='vscode-notebook-cell:/Users/kerekovskik/repos/DEMOGORGN-web/api/test.ipynb#W3sZmlsZQ%3D%3D?line=0'>1</a>\u001b[0m \u001b[39mimport\u001b[39;00m \u001b[39mdemogorgn\u001b[39;00m\n\u001b[0;32m----> <a href='vscode-notebook-cell:/Users/kerekovskik/repos/DEMOGORGN-web/api/test.ipynb#W3sZmlsZQ%3D%3D?line=2'>3</a>\u001b[0m demogorgn\u001b[39m.\u001b[39;49msimulate(\n\u001b[1;32m      <a href='vscode-notebook-cell:/Users/kerekovskik/repos/DEMOGORGN-web/api/test.ipynb#W3sZmlsZQ%3D%3D?line=3'>4</a>\u001b[0m     xmin \u001b[39m=\u001b[39;49m \u001b[39mNone\u001b[39;49;00m,\n\u001b[1;32m      <a href='vscode-notebook-cell:/Users/kerekovskik/repos/DEMOGORGN-web/api/test.ipynb#W3sZmlsZQ%3D%3D?line=4'>5</a>\u001b[0m     xmax \u001b[39m=\u001b[39;49m \u001b[39mNone\u001b[39;49;00m,\n\u001b[1;32m      <a href='vscode-notebook-cell:/Users/kerekovskik/repos/DEMOGORGN-web/api/test.ipynb#W3sZmlsZQ%3D%3D?line=5'>6</a>\u001b[0m     ymin \u001b[39m=\u001b[39;49m \u001b[39mNone\u001b[39;49;00m,\n\u001b[1;32m      <a href='vscode-notebook-cell:/Users/kerekovskik/repos/DEMOGORGN-web/api/test.ipynb#W3sZmlsZQ%3D%3D?line=6'>7</a>\u001b[0m     ymax \u001b[39m=\u001b[39;49m \u001b[39mNone\u001b[39;49;00m,\n\u001b[1;32m      <a href='vscode-notebook-cell:/Users/kerekovskik/repos/DEMOGORGN-web/api/test.ipynb#W3sZmlsZQ%3D%3D?line=7'>8</a>\u001b[0m     res \u001b[39m=\u001b[39;49m \u001b[39m500\u001b[39;49m,\n\u001b[1;32m      <a href='vscode-notebook-cell:/Users/kerekovskik/repos/DEMOGORGN-web/api/test.ipynb#W3sZmlsZQ%3D%3D?line=8'>9</a>\u001b[0m     num_realizations \u001b[39m=\u001b[39;49m \u001b[39m2\u001b[39;49m \n\u001b[1;32m     <a href='vscode-notebook-cell:/Users/kerekovskik/repos/DEMOGORGN-web/api/test.ipynb#W3sZmlsZQ%3D%3D?line=9'>10</a>\u001b[0m )\n",
      "File \u001b[0;32m~/repos/DEMOGORGN-web/api/demogorgn.py:86\u001b[0m, in \u001b[0;36msimulate\u001b[0;34m(xmin, xmax, ymin, ymax, res, num_realizations)\u001b[0m\n\u001b[1;32m     84\u001b[0m max_lag \u001b[39m=\u001b[39m \u001b[39m30000\u001b[39m         \u001b[39m# maximum lag distance\u001b[39;00m\n\u001b[1;32m     85\u001b[0m n_lags \u001b[39m=\u001b[39m \u001b[39m100\u001b[39m            \u001b[39m# number of bins\u001b[39;00m\n\u001b[0;32m---> 86\u001b[0m gamma \u001b[39m=\u001b[39m sgs_preprocess\u001b[39m.\u001b[39;49mget_variograms(df_data, n_lags, max_lag, processes)\n\u001b[1;32m     88\u001b[0m guid \u001b[39m=\u001b[39m \u001b[39mstr\u001b[39m(uuid\u001b[39m.\u001b[39muuid4())\n\u001b[1;32m     89\u001b[0m \u001b[39mfor\u001b[39;00m i \u001b[39min\u001b[39;00m \u001b[39mrange\u001b[39m(num_realizations):\n",
      "File \u001b[0;32m~/repos/DEMOGORGN-web/api/sgs_preprocess.py:313\u001b[0m, in \u001b[0;36mget_variograms\u001b[0;34m(df_data, n_lags, max_lag, processes)\u001b[0m\n\u001b[1;32m    310\u001b[0m args \u001b[39m=\u001b[39m \u001b[39mzip\u001b[39m(gen_locs, gen_nres, itertools\u001b[39m.\u001b[39mcycle([n_lags]), itertools\u001b[39m.\u001b[39mcycle([max_lag]))\n\u001b[1;32m    312\u001b[0m pool \u001b[39m=\u001b[39m mp\u001b[39m.\u001b[39mPool(processes)\n\u001b[0;32m--> 313\u001b[0m out \u001b[39m=\u001b[39m pool\u001b[39m.\u001b[39;49mstarmap(Variogram, args)\n\u001b[1;32m    315\u001b[0m \u001b[39mprint\u001b[39m(\u001b[39mf\u001b[39m\u001b[39m'\u001b[39m\u001b[39m\\t\u001b[39;00m\u001b[39m{\u001b[39;00m\u001b[39mround\u001b[39m((time\u001b[39m.\u001b[39mtime()\u001b[39m-\u001b[39mstart),\u001b[39m \u001b[39m\u001b[39m2\u001b[39m)\u001b[39m}\u001b[39;00m\u001b[39m seconds to complete\u001b[39m\u001b[39m\\n\u001b[39;00m\u001b[39m'\u001b[39m)\n\u001b[1;32m    317\u001b[0m \u001b[39m# save variogram parameters in dictionary [azimuth, nugget, major_range, minor_range, sill]\u001b[39;00m\n",
      "File \u001b[0;32m/opt/homebrew/Cellar/python@3.10/3.10.12_1/Frameworks/Python.framework/Versions/3.10/lib/python3.10/multiprocessing/pool.py:375\u001b[0m, in \u001b[0;36mPool.starmap\u001b[0;34m(self, func, iterable, chunksize)\u001b[0m\n\u001b[1;32m    369\u001b[0m \u001b[39mdef\u001b[39;00m \u001b[39mstarmap\u001b[39m(\u001b[39mself\u001b[39m, func, iterable, chunksize\u001b[39m=\u001b[39m\u001b[39mNone\u001b[39;00m):\n\u001b[1;32m    370\u001b[0m \u001b[39m    \u001b[39m\u001b[39m'''\u001b[39;00m\n\u001b[1;32m    371\u001b[0m \u001b[39m    Like `map()` method but the elements of the `iterable` are expected to\u001b[39;00m\n\u001b[1;32m    372\u001b[0m \u001b[39m    be iterables as well and will be unpacked as arguments. Hence\u001b[39;00m\n\u001b[1;32m    373\u001b[0m \u001b[39m    `func` and (a, b) becomes func(a, b).\u001b[39;00m\n\u001b[1;32m    374\u001b[0m \u001b[39m    '''\u001b[39;00m\n\u001b[0;32m--> 375\u001b[0m     \u001b[39mreturn\u001b[39;00m \u001b[39mself\u001b[39;49m\u001b[39m.\u001b[39;49m_map_async(func, iterable, starmapstar, chunksize)\u001b[39m.\u001b[39;49mget()\n",
      "File \u001b[0;32m/opt/homebrew/Cellar/python@3.10/3.10.12_1/Frameworks/Python.framework/Versions/3.10/lib/python3.10/multiprocessing/pool.py:774\u001b[0m, in \u001b[0;36mApplyResult.get\u001b[0;34m(self, timeout)\u001b[0m\n\u001b[1;32m    772\u001b[0m     \u001b[39mreturn\u001b[39;00m \u001b[39mself\u001b[39m\u001b[39m.\u001b[39m_value\n\u001b[1;32m    773\u001b[0m \u001b[39melse\u001b[39;00m:\n\u001b[0;32m--> 774\u001b[0m     \u001b[39mraise\u001b[39;00m \u001b[39mself\u001b[39m\u001b[39m.\u001b[39m_value\n",
      "\u001b[0;31mValueError\u001b[0m: unable to infer matrix dimensions"
     ]
    }
   ],
   "source": [
    "import demogorgn\n",
    "\n",
    "demogorgn.simulate(\n",
    "    xmin = None,\n",
    "    xmax = None,\n",
    "    ymin = None,\n",
    "    ymax = None,\n",
    "    res = 500,\n",
    "    num_realizations = 2 \n",
    ")"
   ]
  }
 ],
 "metadata": {
  "kernelspec": {
   "display_name": "venv",
   "language": "python",
   "name": "python3"
  },
  "language_info": {
   "codemirror_mode": {
    "name": "ipython",
    "version": 3
   },
   "file_extension": ".py",
   "mimetype": "text/x-python",
   "name": "python",
   "nbconvert_exporter": "python",
   "pygments_lexer": "ipython3",
   "version": "3.10.12"
  }
 },
 "nbformat": 4,
 "nbformat_minor": 2
}
