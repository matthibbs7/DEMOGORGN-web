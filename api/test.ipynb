{
 "cells": [
  {
   "cell_type": "code",
   "execution_count": null,
   "metadata": {},
   "outputs": [],
   "source": [
    "import statUtil"
   ]
  },
  {
   "cell_type": "markdown",
   "metadata": {},
   "source": [
    "```python \n",
    "minx = -280000\n",
    "maxx = -160000\n",
    "miny = -1780000\n",
    "maxy = -1670000\n",
    "res = 1000\n",
    "sim_num = 3\n",
    "k = 100\n",
    "rad = 50000\n",
    "\n",
    "statUtil.cosim_mm1(\n",
    "    minx=minx, maxx=maxx, miny=miny, maxy=maxy, res=res, sim_num=sim_num, k=k, rad=rad\n",
    ")\n",
    "```\n"
   ]
  },
  {
   "cell_type": "code",
   "execution_count": 4,
   "metadata": {},
   "outputs": [
    {
     "data": {
      "text/html": [
       "<div>\n",
       "<style scoped>\n",
       "    .dataframe tbody tr th:only-of-type {\n",
       "        vertical-align: middle;\n",
       "    }\n",
       "\n",
       "    .dataframe tbody tr th {\n",
       "        vertical-align: top;\n",
       "    }\n",
       "\n",
       "    .dataframe thead th {\n",
       "        text-align: right;\n",
       "    }\n",
       "</style>\n",
       "<table border=\"1\" class=\"dataframe\">\n",
       "  <thead>\n",
       "    <tr style=\"text-align: right;\">\n",
       "      <th></th>\n",
       "      <th>X</th>\n",
       "      <th>Y</th>\n",
       "      <th>BED</th>\n",
       "    </tr>\n",
       "  </thead>\n",
       "  <tbody>\n",
       "    <tr>\n",
       "      <th>0</th>\n",
       "      <td>-171260.0</td>\n",
       "      <td>-2465400.0</td>\n",
       "      <td>157.97</td>\n",
       "    </tr>\n",
       "    <tr>\n",
       "      <th>1</th>\n",
       "      <td>-171140.0</td>\n",
       "      <td>-2465300.0</td>\n",
       "      <td>188.42</td>\n",
       "    </tr>\n",
       "    <tr>\n",
       "      <th>2</th>\n",
       "      <td>-171030.0</td>\n",
       "      <td>-2465200.0</td>\n",
       "      <td>203.10</td>\n",
       "    </tr>\n",
       "    <tr>\n",
       "      <th>3</th>\n",
       "      <td>-170970.0</td>\n",
       "      <td>-2465100.0</td>\n",
       "      <td>206.03</td>\n",
       "    </tr>\n",
       "    <tr>\n",
       "      <th>4</th>\n",
       "      <td>-170860.0</td>\n",
       "      <td>-2465100.0</td>\n",
       "      <td>183.51</td>\n",
       "    </tr>\n",
       "    <tr>\n",
       "      <th>...</th>\n",
       "      <td>...</td>\n",
       "      <td>...</td>\n",
       "      <td>...</td>\n",
       "    </tr>\n",
       "    <tr>\n",
       "      <th>67218666</th>\n",
       "      <td>878580.0</td>\n",
       "      <td>-3384400.0</td>\n",
       "      <td>-1840.00</td>\n",
       "    </tr>\n",
       "    <tr>\n",
       "      <th>67218667</th>\n",
       "      <td>878820.0</td>\n",
       "      <td>-3384400.0</td>\n",
       "      <td>-1846.70</td>\n",
       "    </tr>\n",
       "    <tr>\n",
       "      <th>67218668</th>\n",
       "      <td>879080.0</td>\n",
       "      <td>-3384400.0</td>\n",
       "      <td>-1852.00</td>\n",
       "    </tr>\n",
       "    <tr>\n",
       "      <th>67218669</th>\n",
       "      <td>879320.0</td>\n",
       "      <td>-3384400.0</td>\n",
       "      <td>-1857.00</td>\n",
       "    </tr>\n",
       "    <tr>\n",
       "      <th>67218670</th>\n",
       "      <td>879580.0</td>\n",
       "      <td>-3384400.0</td>\n",
       "      <td>-1861.30</td>\n",
       "    </tr>\n",
       "  </tbody>\n",
       "</table>\n",
       "<p>67218671 rows × 3 columns</p>\n",
       "</div>"
      ],
      "text/plain": [
       "                 X          Y      BED\n",
       "0        -171260.0 -2465400.0   157.97\n",
       "1        -171140.0 -2465300.0   188.42\n",
       "2        -171030.0 -2465200.0   203.10\n",
       "3        -170970.0 -2465100.0   206.03\n",
       "4        -170860.0 -2465100.0   183.51\n",
       "...            ...        ...      ...\n",
       "67218666  878580.0 -3384400.0 -1840.00\n",
       "67218667  878820.0 -3384400.0 -1846.70\n",
       "67218668  879080.0 -3384400.0 -1852.00\n",
       "67218669  879320.0 -3384400.0 -1857.00\n",
       "67218670  879580.0 -3384400.0 -1861.30\n",
       "\n",
       "[67218671 rows x 3 columns]"
      ]
     },
     "execution_count": 4,
     "metadata": {},
     "output_type": "execute_result"
    }
   ],
   "source": [
    "import pandas as pd \n",
    "FILE_NAME = \"./data/total_demo_gl_not_gridded.csv\"\n",
    "FILE_NAME = \"./data/PIG_data.csv\"\n",
    "df_bed = pd.read_csv(FILE_NAME)\n",
    "df_bed"
   ]
  },
  {
   "cell_type": "markdown",
   "metadata": {},
   "source": [
    "0\t-171260.0\t-2465400.0\t157.97\n",
    "1\t-171140.0\t-2465300.0\t188.42\n",
    "2\t-171030.0\t-2465200.0\t203.10\n",
    "3\t-170970.0\t-2465100.0\t206.03\n",
    "4\t-170860.0\t-2465100.0\t183.51\n",
    "...\t...\t...\t...\n",
    "67218666\t878580.0\t-3384400.0\t-1840.00\n",
    "67218667\t878820.0\t-3384400.0\t-1846.70\n",
    "67218668\t879080.0\t-3384400.0\t-1852.00\n",
    "67218669\t879320.0\t-3384400.0\t-1857.00\n",
    "67218670\t879580.0\t-3384400.0\t-1861.30\n"
   ]
  },
  {
   "cell_type": "code",
   "execution_count": 9,
   "metadata": {},
   "outputs": [
    {
     "name": "stdout",
     "output_type": "stream",
     "text": [
      "xmin: -652920.0 xmax: 879580.0\n",
      "ymin: -3384400.0 ymax: -632680.0\n",
      "\n",
      "xLength: 1532500.0 yLength: 2751720.0\n"
     ]
    }
   ],
   "source": [
    "data_x_min = df_bed['X'].min()\n",
    "data_x_max = df_bed['X'].max()\n",
    "\n",
    "data_y_min = df_bed['Y'].min()\n",
    "data_y_max = df_bed['Y'].max()\n",
    "\n",
    "print(f\"xmin: {data_x_min} xmax: {data_x_max}\")\n",
    "print(f\"ymin: {data_y_min} ymax: {data_y_max}\")\n",
    "print(f\"\")\n",
    "xLength = data_x_max - data_x_min\n",
    "yLength = data_y_max - data_y_min\n",
    "\n",
    "print(f\"xLength: {xLength} yLength: {yLength}\")"
   ]
  },
  {
   "cell_type": "code",
   "execution_count": 10,
   "metadata": {},
   "outputs": [
    {
     "name": "stdout",
     "output_type": "stream",
     "text": [
      "Dataframe has 67218671 points.\n",
      "Gridded data has 464 points, 0.0% (0) are missing and will be simulated.\n"
     ]
    },
    {
     "ename": "ValueError",
     "evalue": "cannot set a frame with no defined index and a scalar",
     "output_type": "error",
     "traceback": [
      "\u001b[0;31m---------------------------------------------------------------------------\u001b[0m",
      "\u001b[0;31mValueError\u001b[0m                                Traceback (most recent call last)",
      "\u001b[1;32m/Users/kerekovskik/repos/DEMOGORGN-web/api/test.ipynb Cell 6\u001b[0m line \u001b[0;36m3\n\u001b[1;32m      <a href='vscode-notebook-cell:/Users/kerekovskik/repos/DEMOGORGN-web/api/test.ipynb#W3sZmlsZQ%3D%3D?line=0'>1</a>\u001b[0m \u001b[39mimport\u001b[39;00m \u001b[39mdemogorgn\u001b[39;00m\n\u001b[0;32m----> <a href='vscode-notebook-cell:/Users/kerekovskik/repos/DEMOGORGN-web/api/test.ipynb#W3sZmlsZQ%3D%3D?line=2'>3</a>\u001b[0m demogorgn\u001b[39m.\u001b[39;49msimulate(\n\u001b[1;32m      <a href='vscode-notebook-cell:/Users/kerekovskik/repos/DEMOGORGN-web/api/test.ipynb#W3sZmlsZQ%3D%3D?line=3'>4</a>\u001b[0m     xmin \u001b[39m=\u001b[39;49m \u001b[39m-\u001b[39;49m\u001b[39m651920.0\u001b[39;49m,\n\u001b[1;32m      <a href='vscode-notebook-cell:/Users/kerekovskik/repos/DEMOGORGN-web/api/test.ipynb#W3sZmlsZQ%3D%3D?line=4'>5</a>\u001b[0m     xmax \u001b[39m=\u001b[39;49m \u001b[39m-\u001b[39;49m\u001b[39m622920.0\u001b[39;49m,\n\u001b[1;32m      <a href='vscode-notebook-cell:/Users/kerekovskik/repos/DEMOGORGN-web/api/test.ipynb#W3sZmlsZQ%3D%3D?line=5'>6</a>\u001b[0m     ymin \u001b[39m=\u001b[39;49m \u001b[39m-\u001b[39;49m\u001b[39m3383400.0\u001b[39;49m,\n\u001b[1;32m      <a href='vscode-notebook-cell:/Users/kerekovskik/repos/DEMOGORGN-web/api/test.ipynb#W3sZmlsZQ%3D%3D?line=6'>7</a>\u001b[0m     ymax \u001b[39m=\u001b[39;49m \u001b[39m-\u001b[39;49m\u001b[39m3379400.0\u001b[39;49m,\n\u001b[1;32m      <a href='vscode-notebook-cell:/Users/kerekovskik/repos/DEMOGORGN-web/api/test.ipynb#W3sZmlsZQ%3D%3D?line=7'>8</a>\u001b[0m     res \u001b[39m=\u001b[39;49m \u001b[39m500\u001b[39;49m,\n\u001b[1;32m      <a href='vscode-notebook-cell:/Users/kerekovskik/repos/DEMOGORGN-web/api/test.ipynb#W3sZmlsZQ%3D%3D?line=8'>9</a>\u001b[0m     num_realizations \u001b[39m=\u001b[39;49m \u001b[39m1\u001b[39;49m\n\u001b[1;32m     <a href='vscode-notebook-cell:/Users/kerekovskik/repos/DEMOGORGN-web/api/test.ipynb#W3sZmlsZQ%3D%3D?line=9'>10</a>\u001b[0m )\n",
      "File \u001b[0;32m~/repos/DEMOGORGN-web/api/demogorgn.py:69\u001b[0m, in \u001b[0;36msimulate\u001b[0;34m(xmin, xmax, ymin, ymax, res, num_realizations)\u001b[0m\n\u001b[1;32m     66\u001b[0m df_bed \u001b[39m=\u001b[39m pd\u001b[39m.\u001b[39mread_csv(FILE_NAME)\n\u001b[1;32m     68\u001b[0m \u001b[39m# grid data\u001b[39;00m\n\u001b[0;32m---> 69\u001b[0m df_data, grid_matrix, df_nan \u001b[39m=\u001b[39m sgs_preprocess\u001b[39m.\u001b[39;49mgrid_data(df_bed, xmin, xmax, ymin, ymax, res, x, y, z)\n\u001b[1;32m     71\u001b[0m \u001b[39m# normal score transformation of bed elevation\u001b[39;00m\n\u001b[1;32m     72\u001b[0m df_data\u001b[39m.\u001b[39mloc[:,\u001b[39m'\u001b[39m\u001b[39mNorm_Bed\u001b[39m\u001b[39m'\u001b[39m], nst_trans \u001b[39m=\u001b[39m sgs_preprocess\u001b[39m.\u001b[39mnscore(df_data, z)\n",
      "File \u001b[0;32m~/repos/DEMOGORGN-web/api/sgs_preprocess.py:162\u001b[0m, in \u001b[0;36mgrid_data\u001b[0;34m(df, xmin, xmax, ymin, ymax, res, xx, yy, zz)\u001b[0m\n\u001b[1;32m    159\u001b[0m df_nan \u001b[39m=\u001b[39m df_nan\u001b[39m.\u001b[39mrename(columns \u001b[39m=\u001b[39m {\u001b[39m\"\u001b[39m\u001b[39mZ\u001b[39m\u001b[39m\"\u001b[39m: zz})\n\u001b[1;32m    161\u001b[0m df_data\u001b[39m.\u001b[39mloc[:,\u001b[39m'\u001b[39m\u001b[39msimulated\u001b[39m\u001b[39m'\u001b[39m] \u001b[39m=\u001b[39m \u001b[39m0\u001b[39m\n\u001b[0;32m--> 162\u001b[0m df_nan\u001b[39m.\u001b[39;49mloc[:,\u001b[39m'\u001b[39;49m\u001b[39msimulated\u001b[39;49m\u001b[39m'\u001b[39;49m] \u001b[39m=\u001b[39m \u001b[39m1\u001b[39m\n\u001b[1;32m    163\u001b[0m df_data\u001b[39m.\u001b[39mloc[:, \u001b[39m'\u001b[39m\u001b[39mcluster\u001b[39m\u001b[39m'\u001b[39m] \u001b[39m=\u001b[39m np\u001b[39m.\u001b[39mnan\n\u001b[1;32m    164\u001b[0m df_nan\u001b[39m.\u001b[39mloc[:,\u001b[39m'\u001b[39m\u001b[39mcluster\u001b[39m\u001b[39m'\u001b[39m] \u001b[39m=\u001b[39m np\u001b[39m.\u001b[39mnan\n",
      "File \u001b[0;32m~/repos/DEMOGORGN-web/venv_pyvista/lib/python3.10/site-packages/pandas/core/indexing.py:885\u001b[0m, in \u001b[0;36m_LocationIndexer.__setitem__\u001b[0;34m(self, key, value)\u001b[0m\n\u001b[1;32m    882\u001b[0m \u001b[39mself\u001b[39m\u001b[39m.\u001b[39m_has_valid_setitem_indexer(key)\n\u001b[1;32m    884\u001b[0m iloc \u001b[39m=\u001b[39m \u001b[39mself\u001b[39m \u001b[39mif\u001b[39;00m \u001b[39mself\u001b[39m\u001b[39m.\u001b[39mname \u001b[39m==\u001b[39m \u001b[39m\"\u001b[39m\u001b[39miloc\u001b[39m\u001b[39m\"\u001b[39m \u001b[39melse\u001b[39;00m \u001b[39mself\u001b[39m\u001b[39m.\u001b[39mobj\u001b[39m.\u001b[39miloc\n\u001b[0;32m--> 885\u001b[0m iloc\u001b[39m.\u001b[39;49m_setitem_with_indexer(indexer, value, \u001b[39mself\u001b[39;49m\u001b[39m.\u001b[39;49mname)\n",
      "File \u001b[0;32m~/repos/DEMOGORGN-web/venv_pyvista/lib/python3.10/site-packages/pandas/core/indexing.py:1809\u001b[0m, in \u001b[0;36m_iLocIndexer._setitem_with_indexer\u001b[0;34m(self, indexer, value, name)\u001b[0m\n\u001b[1;32m   1807\u001b[0m \u001b[39mif\u001b[39;00m \u001b[39mnot\u001b[39;00m \u001b[39mlen\u001b[39m(\u001b[39mself\u001b[39m\u001b[39m.\u001b[39mobj):\n\u001b[1;32m   1808\u001b[0m     \u001b[39mif\u001b[39;00m \u001b[39mnot\u001b[39;00m is_list_like_indexer(value):\n\u001b[0;32m-> 1809\u001b[0m         \u001b[39mraise\u001b[39;00m \u001b[39mValueError\u001b[39;00m(\n\u001b[1;32m   1810\u001b[0m             \u001b[39m\"\u001b[39m\u001b[39mcannot set a frame with no \u001b[39m\u001b[39m\"\u001b[39m\n\u001b[1;32m   1811\u001b[0m             \u001b[39m\"\u001b[39m\u001b[39mdefined index and a scalar\u001b[39m\u001b[39m\"\u001b[39m\n\u001b[1;32m   1812\u001b[0m         )\n\u001b[1;32m   1813\u001b[0m     \u001b[39mself\u001b[39m\u001b[39m.\u001b[39mobj[key] \u001b[39m=\u001b[39m value\n\u001b[1;32m   1814\u001b[0m     \u001b[39mreturn\u001b[39;00m\n",
      "\u001b[0;31mValueError\u001b[0m: cannot set a frame with no defined index and a scalar"
     ]
    }
   ],
   "source": [
    "import demogorgn\n",
    "\n",
    "demogorgn.simulate(\n",
    "    xmin = -651920.0,\n",
    "    xmax = -622920.0,\n",
    "    ymin = -3383400.0,\n",
    "    ymax = -3379400.0,\n",
    "    res = 500,\n",
    "    num_realizations = 1\n",
    ")"
   ]
  }
 ],
 "metadata": {
  "kernelspec": {
   "display_name": "venv",
   "language": "python",
   "name": "python3"
  },
  "language_info": {
   "codemirror_mode": {
    "name": "ipython",
    "version": 3
   },
   "file_extension": ".py",
   "mimetype": "text/x-python",
   "name": "python",
   "nbconvert_exporter": "python",
   "pygments_lexer": "ipython3",
   "version": "3.10.12"
  }
 },
 "nbformat": 4,
 "nbformat_minor": 2
}
