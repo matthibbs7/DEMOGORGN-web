{
 "cells": [
  {
   "cell_type": "code",
   "execution_count": 1,
   "metadata": {},
   "outputs": [],
   "source": [
    "import pandas as pd "
   ]
  },
  {
   "cell_type": "code",
   "execution_count": 2,
   "metadata": {},
   "outputs": [],
   "source": [
    "filename = \"/Users/kerekovskik/repos/DEMOGORGN-web/api/data/PIG_data.csv\"\n",
    "df = pd.read_csv(filename)"
   ]
  },
  {
   "cell_type": "code",
   "execution_count": 3,
   "metadata": {},
   "outputs": [
    {
     "data": {
      "text/html": [
       "<div>\n",
       "<style scoped>\n",
       "    .dataframe tbody tr th:only-of-type {\n",
       "        vertical-align: middle;\n",
       "    }\n",
       "\n",
       "    .dataframe tbody tr th {\n",
       "        vertical-align: top;\n",
       "    }\n",
       "\n",
       "    .dataframe thead th {\n",
       "        text-align: right;\n",
       "    }\n",
       "</style>\n",
       "<table border=\"1\" class=\"dataframe\">\n",
       "  <thead>\n",
       "    <tr style=\"text-align: right;\">\n",
       "      <th></th>\n",
       "      <th>Unnamed: 0</th>\n",
       "      <th>X</th>\n",
       "      <th>Y</th>\n",
       "      <th>BED</th>\n",
       "    </tr>\n",
       "  </thead>\n",
       "  <tbody>\n",
       "    <tr>\n",
       "      <th>count</th>\n",
       "      <td>840033.000000</td>\n",
       "      <td>8.400330e+05</td>\n",
       "      <td>840033.000000</td>\n",
       "      <td>840033.000000</td>\n",
       "    </tr>\n",
       "    <tr>\n",
       "      <th>mean</th>\n",
       "      <td>420016.000000</td>\n",
       "      <td>-1.565020e+06</td>\n",
       "      <td>-178037.421903</td>\n",
       "      <td>-939.657576</td>\n",
       "    </tr>\n",
       "    <tr>\n",
       "      <th>std</th>\n",
       "      <td>242496.783677</td>\n",
       "      <td>2.727459e+04</td>\n",
       "      <td>42151.121346</td>\n",
       "      <td>288.257469</td>\n",
       "    </tr>\n",
       "    <tr>\n",
       "      <th>min</th>\n",
       "      <td>0.000000</td>\n",
       "      <td>-1.620000e+06</td>\n",
       "      <td>-249999.721069</td>\n",
       "      <td>-1773.500000</td>\n",
       "    </tr>\n",
       "    <tr>\n",
       "      <th>25%</th>\n",
       "      <td>210008.000000</td>\n",
       "      <td>-1.583382e+06</td>\n",
       "      <td>-214834.848451</td>\n",
       "      <td>-1172.330000</td>\n",
       "    </tr>\n",
       "    <tr>\n",
       "      <th>50%</th>\n",
       "      <td>420016.000000</td>\n",
       "      <td>-1.562726e+06</td>\n",
       "      <td>-178761.736396</td>\n",
       "      <td>-987.519861</td>\n",
       "    </tr>\n",
       "    <tr>\n",
       "      <th>75%</th>\n",
       "      <td>630024.000000</td>\n",
       "      <td>-1.539638e+06</td>\n",
       "      <td>-137767.267733</td>\n",
       "      <td>-724.133483</td>\n",
       "    </tr>\n",
       "    <tr>\n",
       "      <th>max</th>\n",
       "      <td>840032.000000</td>\n",
       "      <td>-1.520001e+06</td>\n",
       "      <td>-110000.422450</td>\n",
       "      <td>399.740000</td>\n",
       "    </tr>\n",
       "  </tbody>\n",
       "</table>\n",
       "</div>"
      ],
      "text/plain": [
       "          Unnamed: 0             X              Y            BED\n",
       "count  840033.000000  8.400330e+05  840033.000000  840033.000000\n",
       "mean   420016.000000 -1.565020e+06 -178037.421903    -939.657576\n",
       "std    242496.783677  2.727459e+04   42151.121346     288.257469\n",
       "min         0.000000 -1.620000e+06 -249999.721069   -1773.500000\n",
       "25%    210008.000000 -1.583382e+06 -214834.848451   -1172.330000\n",
       "50%    420016.000000 -1.562726e+06 -178761.736396    -987.519861\n",
       "75%    630024.000000 -1.539638e+06 -137767.267733    -724.133483\n",
       "max    840032.000000 -1.520001e+06 -110000.422450     399.740000"
      ]
     },
     "execution_count": 3,
     "metadata": {},
     "output_type": "execute_result"
    }
   ],
   "source": [
    "df.describe()"
   ]
  },
  {
   "cell_type": "code",
   "execution_count": 4,
   "metadata": {},
   "outputs": [
    {
     "name": "stdout",
     "output_type": "stream",
     "text": [
      "Column Unnamed: 0\n",
      "Minimum value:  0\n",
      "Maximum value:  840032\n",
      "Column X\n",
      "Minimum value:  -1619999.7700075947\n",
      "Maximum value:  -1520000.8015264915\n",
      "Column Y\n",
      "Minimum value:  -249999.72106930905\n",
      "Maximum value:  -110000.42244985892\n",
      "Column BED\n",
      "Minimum value:  -1773.5\n",
      "Maximum value:  399.74\n"
     ]
    }
   ],
   "source": [
    "for col in df.columns:\n",
    "    print(f\"Column {col}\")\n",
    "    print(\"Minimum value: \", df[col].min())\n",
    "    print(\"Maximum value: \", df[col].max())"
   ]
  }
 ],
 "metadata": {
  "kernelspec": {
   "display_name": "venv",
   "language": "python",
   "name": "python3"
  },
  "language_info": {
   "codemirror_mode": {
    "name": "ipython",
    "version": 3
   },
   "file_extension": ".py",
   "mimetype": "text/x-python",
   "name": "python",
   "nbconvert_exporter": "python",
   "pygments_lexer": "ipython3",
   "version": "3.10.12"
  }
 },
 "nbformat": 4,
 "nbformat_minor": 2
}
